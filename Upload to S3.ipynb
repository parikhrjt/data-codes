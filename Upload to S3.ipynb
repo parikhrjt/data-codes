{
 "cells": [
  {
   "cell_type": "code",
   "execution_count": 1,
   "id": "504fc509",
   "metadata": {},
   "outputs": [
    {
     "name": "stdout",
     "output_type": "stream",
     "text": [
      "Collecting boto3\n",
      "  Downloading boto3-1.21.32-py3-none-any.whl (132 kB)\n",
      "     ------------------------------------ 132.4/132.4 KB 710.4 kB/s eta 0:00:00\n",
      "Collecting botocore<1.25.0,>=1.24.32\n",
      "  Downloading botocore-1.24.32-py3-none-any.whl (8.6 MB)\n",
      "     ---------------------------------------- 8.6/8.6 MB 834.9 kB/s eta 0:00:00\n",
      "Collecting s3transfer<0.6.0,>=0.5.0\n",
      "  Downloading s3transfer-0.5.2-py3-none-any.whl (79 kB)\n",
      "     ---------------------------------------- 79.5/79.5 KB 2.2 MB/s eta 0:00:00\n",
      "Collecting jmespath<2.0.0,>=0.7.1\n",
      "  Downloading jmespath-1.0.0-py3-none-any.whl (23 kB)\n",
      "Requirement already satisfied: urllib3<1.27,>=1.25.4 in c:\\users\\rajat\\anaconda3\\lib\\site-packages (from botocore<1.25.0,>=1.24.32->boto3) (1.26.7)\n",
      "Requirement already satisfied: python-dateutil<3.0.0,>=2.1 in c:\\users\\rajat\\anaconda3\\lib\\site-packages (from botocore<1.25.0,>=1.24.32->boto3) (2.8.2)\n",
      "Requirement already satisfied: six>=1.5 in c:\\users\\rajat\\anaconda3\\lib\\site-packages (from python-dateutil<3.0.0,>=2.1->botocore<1.25.0,>=1.24.32->boto3) (1.16.0)\n",
      "Installing collected packages: jmespath, botocore, s3transfer, boto3\n",
      "Successfully installed boto3-1.21.32 botocore-1.24.32 jmespath-1.0.0 s3transfer-0.5.2\n"
     ]
    },
    {
     "name": "stderr",
     "output_type": "stream",
     "text": [
      "WARNING: You are using pip version 22.0.3; however, version 22.0.4 is available.\n",
      "You should consider upgrading via the 'C:\\Users\\rajat\\anaconda3\\python.exe -m pip install --upgrade pip' command.\n"
     ]
    }
   ],
   "source": [
    "!pip install boto3"
   ]
  },
  {
   "cell_type": "code",
   "execution_count": 4,
   "id": "cff65168",
   "metadata": {},
   "outputs": [],
   "source": [
    "from datetime import date\n",
    "\n",
    "S3_BUCKET = 'stader-validators-warehouse-one'\n",
    "'''\n",
    "# data streams have to be unique\n",
    "CHAINS = [{\n",
    "    'name': 'terra-mainnet',\n",
    "    'sources': [\n",
    "        {\n",
    "            'name': 'rpc-endpoint',\n",
    "            'url': 'https://fcd.terra.dev/',\n",
    "            'streams': [\n",
    "                {\n",
    "                    'name': 'staking-validators-v0',\n",
    "                    'endpoint': 'staking/validators?status=bonded&page=1&limit=200'\n",
    "                },\n",
    "                {\n",
    "                    'name': 'staking-validators-v1',\n",
    "                    'endpoint': 'v1/staking/validators'\n",
    "                },\n",
    "            ]\n",
    "        }]\n",
    "}]\n",
    "\n",
    "AGGREGATORS = [\n",
    "    'staking-validators-v0',\n",
    "    # 'validators-meta',\n",
    "]\n",
    "STREAMS = [\n",
    "    'staking-validators-v0',\n",
    "    'staking-validators-v1',\n",
    "]\n",
    "'''\n",
    "TODAY = date.today()\n",
    "TODAY_STR = TODAY.strftime(\"%Y%m%d\")"
   ]
  },
  {
   "cell_type": "code",
   "execution_count": 6,
   "id": "8e592d40",
   "metadata": {},
   "outputs": [],
   "source": [
    "import json\n",
    "import boto3\n",
    "\n",
    "#from config import S3_BUCKET, TODAY_STR"
   ]
  },
  {
   "cell_type": "code",
   "execution_count": null,
   "id": "baded7ce",
   "metadata": {},
   "outputs": [],
   "source": [
    "import json\n",
    "import boto3\n",
    "\n",
    "#from config import S3_BUCKET, TODAY_STR\n",
    "\n",
    "\n",
    "s3 = boto3.resource('s3')\n",
    "\n",
    "chain_name = \"hedera\"\n",
    "json_data = csv_to_json\n",
    "# TODO: rename it - daily data writer\n",
    "def write_to_s3(\n",
    "    chain_name,\n",
    "    #stream_name,\n",
    "    #data_type,\n",
    "    json_data,\n",
    "):\n",
    "    s3_file_name = \"{}.json\".format(TODAY_STR)\n",
    "    s3_file_path = \"{}/{}\".format(\n",
    "            chain_name,\n",
    "            #data_type,\n",
    "            #stream_name,\n",
    "            s3_file_name\n",
    "        )\n",
    "    print(s3_file_path)\n",
    "    s3_object = s3.Object(S3_BUCKET, s3_file_path)\n",
    "    s3_object.put(\n",
    "        Body=(bytes(json.dumps(json_data).encode('UTF-8')))\n",
    "    )\n",
    "\n"
   ]
  },
  {
   "cell_type": "code",
   "execution_count": null,
   "id": "712b9d2c",
   "metadata": {},
   "outputs": [],
   "source": []
  }
 ],
 "metadata": {
  "kernelspec": {
   "display_name": "Python 3 (ipykernel)",
   "language": "python",
   "name": "python3"
  },
  "language_info": {
   "codemirror_mode": {
    "name": "ipython",
    "version": 3
   },
   "file_extension": ".py",
   "mimetype": "text/x-python",
   "name": "python",
   "nbconvert_exporter": "python",
   "pygments_lexer": "ipython3",
   "version": "3.9.7"
  }
 },
 "nbformat": 4,
 "nbformat_minor": 5
}
